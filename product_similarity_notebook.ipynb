{
 "cells": [
  {
   "cell_type": "markdown",
   "metadata": {},
   "source": [
    "### Case Study 2: Five Similar products using CosineSimilarity  ###"
   ]
  },
  {
   "cell_type": "code",
   "execution_count": 94,
   "metadata": {},
   "outputs": [],
   "source": [
    "#Basic imports for data handling and text proccessing\n",
    "import pandas as pd\n",
    "import numpy as np\n",
    "import nltk\n",
    "from unidecode import unidecode"
   ]
  },
  {
   "cell_type": "code",
   "execution_count": 95,
   "metadata": {},
   "outputs": [],
   "source": [
    "#Reading the products.csv data file and storing it in Dataframe \n",
    "prod_data = pd.read_csv(\"prods.csv\")\n",
    "data = prod_data.copy()#Text with original names before text cleaning"
   ]
  },
  {
   "cell_type": "code",
   "execution_count": 96,
   "metadata": {},
   "outputs": [
    {
     "name": "stdout",
     "output_type": "stream",
     "text": [
      "<class 'pandas.core.frame.DataFrame'>\n",
      "RangeIndex: 1000 entries, 0 to 999\n",
      "Data columns (total 4 columns):\n",
      "product_id       1000 non-null int64\n",
      "product_name     1000 non-null object\n",
      "aisle_id         1000 non-null int64\n",
      "department_id    1000 non-null int64\n",
      "dtypes: int64(3), object(1)\n",
      "memory usage: 31.3+ KB\n"
     ]
    }
   ],
   "source": [
    "#Data information for the number of records under each features\n",
    "prod_data.info()\n",
    "#There are 1000 products with product_id,department_id, aisle_id and product_name"
   ]
  },
  {
   "cell_type": "code",
   "execution_count": 97,
   "metadata": {},
   "outputs": [
    {
     "data": {
      "text/html": [
       "<div>\n",
       "<style scoped>\n",
       "    .dataframe tbody tr th:only-of-type {\n",
       "        vertical-align: middle;\n",
       "    }\n",
       "\n",
       "    .dataframe tbody tr th {\n",
       "        vertical-align: top;\n",
       "    }\n",
       "\n",
       "    .dataframe thead th {\n",
       "        text-align: right;\n",
       "    }\n",
       "</style>\n",
       "<table border=\"1\" class=\"dataframe\">\n",
       "  <thead>\n",
       "    <tr style=\"text-align: right;\">\n",
       "      <th></th>\n",
       "      <th>product_id</th>\n",
       "      <th>product_name</th>\n",
       "      <th>aisle_id</th>\n",
       "      <th>department_id</th>\n",
       "    </tr>\n",
       "  </thead>\n",
       "  <tbody>\n",
       "    <tr>\n",
       "      <th>0</th>\n",
       "      <td>1</td>\n",
       "      <td>Chocolate Sandwich Cookies</td>\n",
       "      <td>61</td>\n",
       "      <td>19</td>\n",
       "    </tr>\n",
       "    <tr>\n",
       "      <th>1</th>\n",
       "      <td>2</td>\n",
       "      <td>All-Seasons Salt</td>\n",
       "      <td>104</td>\n",
       "      <td>13</td>\n",
       "    </tr>\n",
       "    <tr>\n",
       "      <th>2</th>\n",
       "      <td>3</td>\n",
       "      <td>Robust Golden Unsweetened Oolong Tea</td>\n",
       "      <td>94</td>\n",
       "      <td>7</td>\n",
       "    </tr>\n",
       "    <tr>\n",
       "      <th>3</th>\n",
       "      <td>4</td>\n",
       "      <td>Smart Ones Classic Favorites Mini Rigatoni Wit...</td>\n",
       "      <td>38</td>\n",
       "      <td>1</td>\n",
       "    </tr>\n",
       "    <tr>\n",
       "      <th>4</th>\n",
       "      <td>5</td>\n",
       "      <td>Green Chile Anytime Sauce</td>\n",
       "      <td>5</td>\n",
       "      <td>13</td>\n",
       "    </tr>\n",
       "  </tbody>\n",
       "</table>\n",
       "</div>"
      ],
      "text/plain": [
       "   product_id                                       product_name  aisle_id  \\\n",
       "0           1                         Chocolate Sandwich Cookies        61   \n",
       "1           2                                   All-Seasons Salt       104   \n",
       "2           3               Robust Golden Unsweetened Oolong Tea        94   \n",
       "3           4  Smart Ones Classic Favorites Mini Rigatoni Wit...        38   \n",
       "4           5                          Green Chile Anytime Sauce         5   \n",
       "\n",
       "   department_id  \n",
       "0             19  \n",
       "1             13  \n",
       "2              7  \n",
       "3              1  \n",
       "4             13  "
      ]
     },
     "execution_count": 97,
     "metadata": {},
     "output_type": "execute_result"
    }
   ],
   "source": [
    "#Products data \n",
    "#Deliverable : 5 Similar products should be found for each of the product using product name\n",
    "prod_data.head()"
   ]
  },
  {
   "cell_type": "code",
   "execution_count": 98,
   "metadata": {},
   "outputs": [
    {
     "data": {
      "text/plain": [
       "0                           Chocolate Sandwich Cookies\n",
       "1                                     All-Seasons Salt\n",
       "2                 Robust Golden Unsweetened Oolong Tea\n",
       "3    Smart Ones Classic Favorites Mini Rigatoni Wit...\n",
       "4                            Green Chile Anytime Sauce\n",
       "Name: product_name, dtype: object"
      ]
     },
     "execution_count": 98,
     "metadata": {},
     "output_type": "execute_result"
    }
   ],
   "source": [
    "#To change all the non- English letters to english letters\n",
    "#Example:\"Héllô Càèùverâêt Jîôûç ïîäüë\" -->  Hello Caeuveraet Jiouc iiaue\n",
    "prod_data['product_name'] = pd.Series(map(lambda text: unidecode(text), prod_data['product_name']))\n",
    "prod_data['product_name'].head()"
   ]
  },
  {
   "cell_type": "code",
   "execution_count": 99,
   "metadata": {},
   "outputs": [],
   "source": [
    "#Function to removev all numericals from product name\n",
    "#If some quantities represented as '1000mcg' only 1000 is removed keeping 'mcg'\n",
    "#hence similar tablets with units has high similarity and low cosine angle between them\n",
    "\n",
    "from nltk.tokenize import word_tokenize\n",
    "\n",
    "def removeDigits(sent):\n",
    "    words = word_tokenize(sent)\n",
    "    without_dig = []\n",
    "    for word in words:\n",
    "        if not word.isdigit():\n",
    "            without_dig.append(word)\n",
    "        Product_name = ' '.join(without_dig)\n",
    "    return Product_name\n",
    "prod_data['product_name'] = pd.Series(map(lambda name: removeDigits(name), prod_data['product_name']))"
   ]
  },
  {
   "cell_type": "code",
   "execution_count": 100,
   "metadata": {},
   "outputs": [
    {
     "name": "stdout",
     "output_type": "stream",
     "text": [
      "Text Cleaned by removing escape characters\n",
      "Text Cleaned by removing  line feeds\n",
      "Text Cleaned by removing  special characters\n",
      "Text lower cased\n"
     ]
    }
   ],
   "source": [
    "#Product Name - Text Cleaning -Preproccessing before tfidf conversion\n",
    "prod_data = prod_data[pd.notnull(prod_data['product_name'])]\n",
    "#Text data cleaning\n",
    "prod_data['product_name'] = prod_data['product_name'].str.replace('[^\\w\\s]','')\n",
    "print(\"Text Cleaned by removing escape characters\")\n",
    "\n",
    "prod_data['product_name'] = prod_data['product_name'].str.replace(\"\\r\",\"\")\n",
    "print(\"Text Cleaned by removing  line feeds\")\n",
    "\n",
    "prod_data['product_name'] = prod_data['product_name'].str.replace(r'\\s+[a-zA-Z]\\s+', ' ')   \n",
    "print(\"Text Cleaned by removing  special characters\")\n",
    "\n",
    "prod_data['product_name'] = prod_data['product_name'].str.lower()\n",
    "print(\"Text lower cased\")\n"
   ]
  },
  {
   "cell_type": "code",
   "execution_count": 101,
   "metadata": {},
   "outputs": [],
   "source": [
    "from nltk.stem import PorterStemmer\n",
    "from nltk.stem import SnowballStemmer\n",
    "\n",
    "#Stemming for further text proccessing\n",
    "SnowballStemmer=SnowballStemmer('english')\n",
    "def stemSentence(sentence):\n",
    "    stem_sentence=[]\n",
    "    for word in sentence:\n",
    "        stem_sentence.append(SnowballStemmer.stem(word))\n",
    "        stem_sentence.append(\"\")\n",
    "    return \"\".join(stem_sentence)\n",
    "\n",
    "#Stemming product description\n",
    "prod_data['product_name'] = prod_data['product_name'].apply(stemSentence)"
   ]
  },
  {
   "cell_type": "code",
   "execution_count": 102,
   "metadata": {},
   "outputs": [
    {
     "data": {
      "text/plain": [
       "0                           chocolate sandwich cookies\n",
       "1                                      allseasons salt\n",
       "2                 robust golden unsweetened oolong tea\n",
       "3    smart ones classic favorites mini rigatoni wit...\n",
       "4                            green chile anytime sauce\n",
       "Name: product_name, dtype: object"
      ]
     },
     "execution_count": 102,
     "metadata": {},
     "output_type": "execute_result"
    }
   ],
   "source": [
    "prod_data['product_name'].head()#After text cleaning"
   ]
  },
  {
   "cell_type": "code",
   "execution_count": 103,
   "metadata": {},
   "outputs": [],
   "source": [
    "#Product name is represented as Tf-Idf matrix \n",
    "from sklearn.feature_extraction import text\n",
    "product_names=prod_data['product_name'].tolist()\n",
    "tfidf=text.TfidfVectorizer(input=product_names,stop_words=\"english\",ngram_range=(1,4),lowercase=True)\n",
    "product_name_matrix=tfidf.fit_transform(product_names)"
   ]
  },
  {
   "cell_type": "code",
   "execution_count": 104,
   "metadata": {},
   "outputs": [
    {
     "data": {
      "text/plain": [
       "(1000, 8448)"
      ]
     },
     "execution_count": 104,
     "metadata": {},
     "output_type": "execute_result"
    }
   ],
   "source": [
    "product_name_matrix.shape"
   ]
  },
  {
   "cell_type": "code",
   "execution_count": 105,
   "metadata": {},
   "outputs": [],
   "source": [
    "#Forming a cocsine similarity matrix with each product name\n",
    "from sklearn.metrics.pairwise import cosine_similarity\n",
    "sim_prod_matrix=cosine_similarity(product_name_matrix)"
   ]
  },
  {
   "cell_type": "code",
   "execution_count": 106,
   "metadata": {},
   "outputs": [
    {
     "data": {
      "text/plain": [
       "(1000, 1000)"
      ]
     },
     "execution_count": 106,
     "metadata": {},
     "output_type": "execute_result"
    }
   ],
   "source": [
    "sim_prod_matrix.shape"
   ]
  },
  {
   "cell_type": "code",
   "execution_count": 107,
   "metadata": {},
   "outputs": [],
   "source": [
    "#Creating a dictionary of similar product suggetsion details with their respective information\n",
    "def get_similar_products(x):\n",
    "    products =  \",\".join(data['product_name'].loc[x.argsort()[-6:-1]])\n",
    "    dept_ids =  list(data['department_id'].loc[x.argsort()[-6:-1]])\n",
    "    product_ids =  list(data['product_id'].loc[x.argsort()[-6:-1]])\n",
    "    aisle_ids =  list(data['aisle_id'].loc[x.argsort()[-6:-1]])\n",
    "    return dict({'products':products,'dept_ids':dept_ids,'product_ids':product_ids,'aisle_ids':aisle_ids})\n",
    "\n",
    "prod_data['similar_products']=[get_similar_products(x) for x in sim_prod_matrix]"
   ]
  },
  {
   "cell_type": "code",
   "execution_count": 114,
   "metadata": {},
   "outputs": [
    {
     "data": {
      "text/plain": [
       "{'products': '100% Cranberry Juice Blend,Premium Apple Juice,All Natural 100% Apple Juice,Peach Aloe Vera Drink,Organic Mango Peach Carrot Kickstart Smoothie',\n",
       " 'dept_ids': [7, 7, 7, 7, 1],\n",
       " 'product_ids': [806, 935, 82, 677, 552],\n",
       " 'aisle_ids': [98, 98, 98, 98, 116]}"
      ]
     },
     "execution_count": 114,
     "metadata": {},
     "output_type": "execute_result"
    }
   ],
   "source": [
    "prod_data['similar_products'][10]# type ->Dictionary"
   ]
  },
  {
   "cell_type": "markdown",
   "metadata": {},
   "source": [
    "#### Each row of this similar_product column contains a dictionary of similar items , hence appending lin seperate Columns into prod_data"
   ]
  },
  {
   "cell_type": "code",
   "execution_count": 135,
   "metadata": {},
   "outputs": [],
   "source": [
    "#Suggestion list for similar product based on cosine similarity\n",
    "suggested_prod_ids = []\n",
    "suggested_prod_names = []\n",
    "suggested_dept_ids = []\n",
    "suggested_aisle_ids = []\n",
    "#Taking each dictionary formed and extracting product_ids,aisle_ids,department_ids and product_names\n",
    "for product in prod_data['similar_products']:\n",
    "    suggested_prod_ids.append((' ,'.join(str(id) for id in product['product_ids'])))    \n",
    "    suggested_prod_names.append(product['products'])\n",
    "    suggested_dept_ids.append((' ,'.join(str(id) for id in product['dept_ids'])))\n",
    "    suggested_aisle_ids.append((' ,'.join(str(id) for id in product['aisle_ids'])))\n"
   ]
  },
  {
   "cell_type": "code",
   "execution_count": 136,
   "metadata": {},
   "outputs": [],
   "source": [
    "#Storing all the three columns to their respective products \n",
    "data['Suggested_products'] = pd.Series(suggested_prod_names)\n",
    "data['Suggested_pro_ids'] = pd.Series(suggested_prod_ids)\n",
    "data['Suggested_dept_ids'] = pd.Series(suggested_dept_ids)\n",
    "data['suggested_aisle_id'] = pd.Series(suggested_aisle_ids)\n"
   ]
  },
  {
   "cell_type": "code",
   "execution_count": 137,
   "metadata": {},
   "outputs": [
    {
     "data": {
      "text/html": [
       "<div>\n",
       "<style scoped>\n",
       "    .dataframe tbody tr th:only-of-type {\n",
       "        vertical-align: middle;\n",
       "    }\n",
       "\n",
       "    .dataframe tbody tr th {\n",
       "        vertical-align: top;\n",
       "    }\n",
       "\n",
       "    .dataframe thead th {\n",
       "        text-align: right;\n",
       "    }\n",
       "</style>\n",
       "<table border=\"1\" class=\"dataframe\">\n",
       "  <thead>\n",
       "    <tr style=\"text-align: right;\">\n",
       "      <th></th>\n",
       "      <th>product_id</th>\n",
       "      <th>product_name</th>\n",
       "      <th>aisle_id</th>\n",
       "      <th>department_id</th>\n",
       "      <th>Suggested_products</th>\n",
       "      <th>Suggested_pro_ids</th>\n",
       "      <th>Suggested_dept_ids</th>\n",
       "      <th>suggested_aisle_id</th>\n",
       "    </tr>\n",
       "  </thead>\n",
       "  <tbody>\n",
       "    <tr>\n",
       "      <th>0</th>\n",
       "      <td>1</td>\n",
       "      <td>Chocolate Sandwich Cookies</td>\n",
       "      <td>61</td>\n",
       "      <td>19</td>\n",
       "      <td>Vegetable Pie In A Pocket Sandwich,Gluten Free...</td>\n",
       "      <td>932 ,172 ,102 ,576 ,559</td>\n",
       "      <td>1 ,19 ,19 ,19 ,19</td>\n",
       "      <td>38 ,61 ,61 ,61 ,61</td>\n",
       "    </tr>\n",
       "    <tr>\n",
       "      <th>1</th>\n",
       "      <td>2</td>\n",
       "      <td>All-Seasons Salt</td>\n",
       "      <td>104</td>\n",
       "      <td>13</td>\n",
       "      <td>Black Salt Caramel Dark Chocolate Bar,Wild Alb...</td>\n",
       "      <td>921 ,79 ,273 ,425 ,463</td>\n",
       "      <td>19 ,15 ,19 ,6 ,13</td>\n",
       "      <td>45 ,95 ,107 ,33 ,104</td>\n",
       "    </tr>\n",
       "    <tr>\n",
       "      <th>2</th>\n",
       "      <td>3</td>\n",
       "      <td>Robust Golden Unsweetened Oolong Tea</td>\n",
       "      <td>94</td>\n",
       "      <td>7</td>\n",
       "      <td>Brambleberry Herbal Tea,Chai Tea Bags,Unsweete...</td>\n",
       "      <td>237 ,281 ,862 ,560 ,569</td>\n",
       "      <td>7 ,7 ,16 ,7 ,19</td>\n",
       "      <td>94 ,94 ,91 ,94 ,61</td>\n",
       "    </tr>\n",
       "    <tr>\n",
       "      <th>3</th>\n",
       "      <td>4</td>\n",
       "      <td>Smart Ones Classic Favorites Mini Rigatoni Wit...</td>\n",
       "      <td>38</td>\n",
       "      <td>1</td>\n",
       "      <td>Caramel Sauce,Whipping Cream,Ice Cream, Cookie...</td>\n",
       "      <td>275 ,469 ,431 ,649 ,774</td>\n",
       "      <td>19 ,16 ,1 ,7 ,9</td>\n",
       "      <td>103 ,53 ,37 ,77 ,131</td>\n",
       "    </tr>\n",
       "    <tr>\n",
       "      <th>4</th>\n",
       "      <td>5</td>\n",
       "      <td>Green Chile Anytime Sauce</td>\n",
       "      <td>5</td>\n",
       "      <td>13</td>\n",
       "      <td>Green Peas, Organic, Petite,Petite Green Peas,...</td>\n",
       "      <td>327 ,969 ,846 ,851 ,275</td>\n",
       "      <td>1 ,1 ,17 ,19 ,19</td>\n",
       "      <td>116 ,116 ,111 ,107 ,103</td>\n",
       "    </tr>\n",
       "  </tbody>\n",
       "</table>\n",
       "</div>"
      ],
      "text/plain": [
       "   product_id                                       product_name  aisle_id  \\\n",
       "0           1                         Chocolate Sandwich Cookies        61   \n",
       "1           2                                   All-Seasons Salt       104   \n",
       "2           3               Robust Golden Unsweetened Oolong Tea        94   \n",
       "3           4  Smart Ones Classic Favorites Mini Rigatoni Wit...        38   \n",
       "4           5                          Green Chile Anytime Sauce         5   \n",
       "\n",
       "   department_id                                 Suggested_products  \\\n",
       "0             19  Vegetable Pie In A Pocket Sandwich,Gluten Free...   \n",
       "1             13  Black Salt Caramel Dark Chocolate Bar,Wild Alb...   \n",
       "2              7  Brambleberry Herbal Tea,Chai Tea Bags,Unsweete...   \n",
       "3              1  Caramel Sauce,Whipping Cream,Ice Cream, Cookie...   \n",
       "4             13  Green Peas, Organic, Petite,Petite Green Peas,...   \n",
       "\n",
       "         Suggested_pro_ids Suggested_dept_ids       suggested_aisle_id  \n",
       "0  932 ,172 ,102 ,576 ,559  1 ,19 ,19 ,19 ,19       38 ,61 ,61 ,61 ,61  \n",
       "1   921 ,79 ,273 ,425 ,463  19 ,15 ,19 ,6 ,13     45 ,95 ,107 ,33 ,104  \n",
       "2  237 ,281 ,862 ,560 ,569    7 ,7 ,16 ,7 ,19       94 ,94 ,91 ,94 ,61  \n",
       "3  275 ,469 ,431 ,649 ,774    19 ,16 ,1 ,7 ,9     103 ,53 ,37 ,77 ,131  \n",
       "4  327 ,969 ,846 ,851 ,275   1 ,1 ,17 ,19 ,19  116 ,116 ,111 ,107 ,103  "
      ]
     },
     "execution_count": 137,
     "metadata": {},
     "output_type": "execute_result"
    }
   ],
   "source": [
    "data.head()"
   ]
  },
  {
   "cell_type": "code",
   "execution_count": 138,
   "metadata": {},
   "outputs": [],
   "source": [
    "#Final output for similar product for finding out for a given product what are top 5 most similar ones \n",
    "#and which Aisle and Department they belong to\n",
    "data.to_csv(\"Product_matches.csv\",index = False)\n",
    "#Converted to csv file and downloaded"
   ]
  },
  {
   "cell_type": "code",
   "execution_count": 139,
   "metadata": {},
   "outputs": [
    {
     "data": {
      "text/plain": [
       "product_id                                                         1000\n",
       "product_name                                                   Apricots\n",
       "aisle_id                                                             18\n",
       "department_id                                                        10\n",
       "Suggested_products    Creamline Yogurt Wild Blueberry,Eco-Pac Kamut ...\n",
       "Suggested_pro_ids                               339 ,340 ,341 ,342 ,329\n",
       "Suggested_dept_ids                                     16 ,14 ,9 ,8 ,16\n",
       "suggested_aisle_id                                  120 ,121 ,9 ,41 ,84\n",
       "Name: 999, dtype: object"
      ]
     },
     "execution_count": 139,
     "metadata": {},
     "output_type": "execute_result"
    }
   ],
   "source": [
    "#For 5th product the similar product suggested is:\n",
    "data.iloc[999]"
   ]
  },
  {
   "cell_type": "code",
   "execution_count": null,
   "metadata": {},
   "outputs": [],
   "source": []
  }
 ],
 "metadata": {
  "kernelspec": {
   "display_name": "Python 3",
   "language": "python",
   "name": "python3"
  },
  "language_info": {
   "codemirror_mode": {
    "name": "ipython",
    "version": 3
   },
   "file_extension": ".py",
   "mimetype": "text/x-python",
   "name": "python",
   "nbconvert_exporter": "python",
   "pygments_lexer": "ipython3",
   "version": "3.7.3"
  }
 },
 "nbformat": 4,
 "nbformat_minor": 2
}

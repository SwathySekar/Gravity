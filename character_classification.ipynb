{
 "cells": [
  {
   "cell_type": "markdown",
   "metadata": {},
   "source": [
    "## Case Study - Image Classification of Devnagri characters images using CNN model"
   ]
  },
  {
   "cell_type": "code",
   "execution_count": 1,
   "metadata": {},
   "outputs": [
    {
     "name": "stderr",
     "output_type": "stream",
     "text": [
      "Using TensorFlow backend.\n"
     ]
    }
   ],
   "source": [
    "#Importing basic libraries for data handling\n",
    "import pandas as pd\n",
    "import numpy as np\n",
    "import matplotlib.pyplot as plt\n",
    "import keras\n",
    "import os\n",
    "%matplotlib inline"
   ]
  },
  {
   "cell_type": "code",
   "execution_count": 41,
   "metadata": {},
   "outputs": [
    {
     "name": "stdout",
     "output_type": "stream",
     "text": [
      "<class 'PIL.PngImagePlugin.PngImageFile'>\n"
     ]
    },
    {
     "name": "stderr",
     "output_type": "stream",
     "text": [
      "C:\\Users\\swath\\Anaconda3\\lib\\site-packages\\keras_preprocessing\\image\\utils.py:104: UserWarning: grayscale is deprecated. Please use color_mode = \"grayscale\"\n",
      "  warnings.warn('grayscale is deprecated. Please use '\n"
     ]
    }
   ],
   "source": [
    "#For image processing and keras library\n",
    "from keras.preprocessing.image import load_img\n",
    "from keras.preprocessing.image import img_to_array\n",
    "from keras.preprocessing.image import array_to_img\n"
   ]
  },
  {
   "cell_type": "code",
   "execution_count": 56,
   "metadata": {},
   "outputs": [],
   "source": [
    "os.chdir('E:\\\\NN_casestudy_prac\\\\Data_extracted\\\\Data\\\\Train')\n",
    "#All the labeled folders contains 1700 pictures which has to be trained through CNN \n"
   ]
  },
  {
   "cell_type": "code",
   "execution_count": 58,
   "metadata": {},
   "outputs": [],
   "source": [
    "#Extracting all the labels using folder names present in the train folder\n",
    "train_folders = os.listdir()"
   ]
  },
  {
   "cell_type": "code",
   "execution_count": 271,
   "metadata": {},
   "outputs": [
    {
     "data": {
      "text/plain": [
       "46"
      ]
     },
     "execution_count": 271,
     "metadata": {},
     "output_type": "execute_result"
    }
   ],
   "source": [
    "#Total 46 classes\n",
    "len(train_folders)"
   ]
  },
  {
   "cell_type": "code",
   "execution_count": 312,
   "metadata": {},
   "outputs": [
    {
     "data": {
      "text/plain": [
       "'character_13_daa'"
      ]
     },
     "execution_count": 312,
     "metadata": {},
     "output_type": "execute_result"
    }
   ],
   "source": [
    "train_folders[3] # COntains all 46 class names"
   ]
  },
  {
   "cell_type": "code",
   "execution_count": null,
   "metadata": {},
   "outputs": [],
   "source": [
    "#Converting all the images to array from data -->train folder :\n",
    "images_array = []\n",
    "for folder in train_folders:\n",
    "    src_dir = \"E:\\\\NN_casestudy_prac\\\\Data_extracted\\\\Data\\\\Train\"\n",
    "    src_dir = os.path.join(src_dir,folder)\n",
    "    os.chdir(src_dir)\n",
    "    images = os.listdir()\n",
    "    for i in images:\n",
    "        img = load_img(i,grayscale=True)\n",
    "        img_array = img_to_array(img)\n",
    "        images_array.append(img_array)\n"
   ]
  },
  {
   "cell_type": "code",
   "execution_count": 1,
   "metadata": {},
   "outputs": [
    {
     "ename": "NameError",
     "evalue": "name 'images_array' is not defined",
     "output_type": "error",
     "traceback": [
      "\u001b[1;31m---------------------------------------------------------------------------\u001b[0m",
      "\u001b[1;31mNameError\u001b[0m                                 Traceback (most recent call last)",
      "\u001b[1;32m<ipython-input-1-c83ce939d0ce>\u001b[0m in \u001b[0;36m<module>\u001b[1;34m\u001b[0m\n\u001b[0;32m      1\u001b[0m \u001b[1;31m#Converting to numpy array\u001b[0m\u001b[1;33m\u001b[0m\u001b[1;33m\u001b[0m\u001b[1;33m\u001b[0m\u001b[0m\n\u001b[1;32m----> 2\u001b[1;33m \u001b[0mimages_array\u001b[0m\u001b[1;33m[\u001b[0m\u001b[1;36m1\u001b[0m\u001b[1;33m]\u001b[0m\u001b[1;33m.\u001b[0m\u001b[0mshape\u001b[0m\u001b[1;33m\u001b[0m\u001b[1;33m\u001b[0m\u001b[0m\n\u001b[0m",
      "\u001b[1;31mNameError\u001b[0m: name 'images_array' is not defined"
     ]
    }
   ],
   "source": [
    "#Converting to numpy array \n",
    "images_array[1].shape"
   ]
  },
  {
   "cell_type": "code",
   "execution_count": 192,
   "metadata": {},
   "outputs": [
    {
     "data": {
      "text/plain": [
       "(78200, 32, 32, 1)"
      ]
     },
     "execution_count": 192,
     "metadata": {},
     "output_type": "execute_result"
    }
   ],
   "source": [
    "#Test data consists of 1024 columns which is flattened array of images\n",
    "#Converting image to 32X32 size and grayscale\n",
    "images_array.shape#Totally 78200 =>46 X 1700 in each folder of train data folder"
   ]
  },
  {
   "cell_type": "code",
   "execution_count": null,
   "metadata": {},
   "outputs": [],
   "source": [
    "#Labelling all images with class numbers\n",
    "y_classes = []\n",
    "for c in range(0,46):\n",
    "    for i in range(0,1700):\n",
    "        y_classes.append(c)\n",
    "\n",
    "#Creating dic of all labels with the names\n",
    "dic = {}\n",
    "i = 0\n",
    "for clas in train_folders:\n",
    "    dic.update({i:clas})\n",
    "    i = i+1"
   ]
  },
  {
   "cell_type": "code",
   "execution_count": 263,
   "metadata": {},
   "outputs": [
    {
     "data": {
      "text/plain": [
       "dict_items([(0, 'character_10_yna'), (1, 'character_11_taamatar'), (2, 'character_12_thaa'), (3, 'character_13_daa'), (4, 'character_14_dhaa'), (5, 'character_15_adna'), (6, 'character_16_tabala'), (7, 'character_17_tha'), (8, 'character_18_da'), (9, 'character_19_dha'), (10, 'character_1_ka'), (11, 'character_20_na'), (12, 'character_21_pa'), (13, 'character_22_pha'), (14, 'character_23_ba'), (15, 'character_24_bha'), (16, 'character_25_ma'), (17, 'character_26_yaw'), (18, 'character_27_ra'), (19, 'character_28_la'), (20, 'character_29_waw'), (21, 'character_2_kha'), (22, 'character_30_motosaw'), (23, 'character_31_petchiryakha'), (24, 'character_32_patalosaw'), (25, 'character_33_ha'), (26, 'character_34_chhya'), (27, 'character_35_tra'), (28, 'character_36_gya'), (29, 'character_3_ga'), (30, 'character_4_gha'), (31, 'character_5_kna'), (32, 'character_6_cha'), (33, 'character_7_chha'), (34, 'character_8_ja'), (35, 'character_9_jha'), (36, 'digit_0'), (37, 'digit_1'), (38, 'digit_2'), (39, 'digit_3'), (40, 'digit_4'), (41, 'digit_5'), (42, 'digit_6'), (43, 'digit_7'), (44, 'digit_8'), (45, 'digit_9')])"
      ]
     },
     "execution_count": 263,
     "metadata": {},
     "output_type": "execute_result"
    }
   ],
   "source": [
    "dic.items()"
   ]
  },
  {
   "cell_type": "code",
   "execution_count": 259,
   "metadata": {},
   "outputs": [
    {
     "data": {
      "text/plain": [
       "'digit_9'"
      ]
     },
     "execution_count": 259,
     "metadata": {},
     "output_type": "execute_result"
    },
    {
     "data": {
      "image/png": "[encoded data removed]",
      "text/plain": [
       "<Figure size 432x288 with 1 Axes>"
      ]
     },
     "metadata": {
      "needs_background": "light"
     },
     "output_type": "display_data"
    }
   ],
   "source": [
    "#Sample image with its class name\n",
    "plt.imshow(images_array[78000,:,:].reshape(32,32),cmap='gray')\n",
    "dic[y_classes[78000]]"
   ]
  },
  {
   "cell_type": "code",
   "execution_count": 195,
   "metadata": {},
   "outputs": [],
   "source": [
    "#Splitting the data for test and train images\n",
    "from sklearn.model_selection import train_test_split\n",
    "X_train,X_test,y_train,y_test = train_test_split(images_array,y_classes,test_size = 0.20, random_state = 200)"
   ]
  },
  {
   "cell_type": "code",
   "execution_count": 206,
   "metadata": {},
   "outputs": [],
   "source": [
    "#preprocessing image matrix by normalizig grayscale images and converting to array\n",
    "x=np.array(X_train)\n",
    "y=keras.utils.to_categorical(np.array(y_train),46)\n",
    "x=x/255.0"
   ]
  },
  {
   "cell_type": "code",
   "execution_count": 260,
   "metadata": {},
   "outputs": [
    {
     "data": {
      "text/plain": [
       "array([[0., 0., 0., ..., 0., 0., 0.],\n",
       "       [0., 0., 0., ..., 0., 0., 0.],\n",
       "       [0., 0., 0., ..., 0., 0., 0.],\n",
       "       ...,\n",
       "       [0., 0., 0., ..., 0., 0., 0.],\n",
       "       [0., 0., 0., ..., 0., 0., 0.],\n",
       "       [0., 1., 0., ..., 0., 0., 0.]], dtype=float32)"
      ]
     },
     "execution_count": 260,
     "metadata": {},
     "output_type": "execute_result"
    }
   ],
   "source": [
    "y# For kera softmax classification layer target layer is the categorical layer y"
   ]
  },
  {
   "cell_type": "code",
   "execution_count": 119,
   "metadata": {},
   "outputs": [],
   "source": [
    "from keras.models import Sequential\n",
    "from keras.layers.convolutional import Conv2D\n",
    "from keras.layers.core import Dense,Flatten\n",
    "from keras.layers.pooling import MaxPooling2D\n",
    "from keras.utils import np_utils\n",
    "from keras.optimizers import SGD\n",
    "from keras.layers import Dropout"
   ]
  },
  {
   "cell_type": "code",
   "execution_count": 185,
   "metadata": {},
   "outputs": [],
   "source": [
    "##LeNet model configuration without dropout layer\n",
    "model=Sequential()\n",
    "model.add(Conv2D(filters=6,kernel_size=(3,3),padding='same',input_shape=(32,32,1)))\n",
    "model.add(MaxPooling2D(pool_size=(2,2)))\n",
    "model.add(Conv2D(filters=16,kernel_size=(3,3),padding='valid'))##padding = 0\n",
    "model.add(MaxPooling2D(pool_size=(2,2)))\n",
    "model.add(Flatten())\n",
    "model.add(Dense(120,activation='relu'))\n",
    "model.add(Dense(84,activation='relu'))\n",
    "model.add(Dense(46,activation='softmax'))"
   ]
  },
  {
   "cell_type": "code",
   "execution_count": 264,
   "metadata": {},
   "outputs": [
    {
     "name": "stdout",
     "output_type": "stream",
     "text": [
      "Model: \"sequential_6\"\n",
      "_________________________________________________________________\n",
      "Layer (type)                 Output Shape              Param #   \n",
      "=================================================================\n",
      "conv2d_11 (Conv2D)           (None, 32, 32, 6)         60        \n",
      "_________________________________________________________________\n",
      "max_pooling2d_11 (MaxPooling (None, 16, 16, 6)         0         \n",
      "_________________________________________________________________\n",
      "conv2d_12 (Conv2D)           (None, 14, 14, 16)        880       \n",
      "_________________________________________________________________\n",
      "max_pooling2d_12 (MaxPooling (None, 7, 7, 16)          0         \n",
      "_________________________________________________________________\n",
      "flatten_6 (Flatten)          (None, 784)               0         \n",
      "_________________________________________________________________\n",
      "dense_16 (Dense)             (None, 120)               94200     \n",
      "_________________________________________________________________\n",
      "dense_17 (Dense)             (None, 84)                10164     \n",
      "_________________________________________________________________\n",
      "dense_18 (Dense)             (None, 46)                3910      \n",
      "=================================================================\n",
      "Total params: 109,214\n",
      "Trainable params: 109,214\n",
      "Non-trainable params: 0\n",
      "_________________________________________________________________\n"
     ]
    }
   ],
   "source": [
    "model.summary()"
   ]
  },
  {
   "cell_type": "code",
   "execution_count": 187,
   "metadata": {},
   "outputs": [],
   "source": [
    "#Stochaistic gradient descent for batchwise implementation\n",
    "sgd = SGD(lr=0.01, decay=1e-6, momentum=0.9, nesterov=True)\n",
    "model.compile(loss='categorical_crossentropy',\n",
    "              optimizer=sgd,\n",
    "              metrics=['accuracy'])"
   ]
  },
  {
   "cell_type": "code",
   "execution_count": 225,
   "metadata": {},
   "outputs": [
    {
     "name": "stdout",
     "output_type": "stream",
     "text": [
      "Train on 50048 samples, validate on 12512 samples\n",
      "Epoch 1/15\n",
      "50048/50048 [==============================] - 28s 562us/step - loss: 0.3033 - acc: 0.9120 - val_loss: 0.5154 - val_acc: 0.8469\n",
      "Epoch 2/15\n",
      "50048/50048 [==============================] - 28s 568us/step - loss: 0.2803 - acc: 0.9190 - val_loss: 0.4257 - val_acc: 0.8722\n",
      "Epoch 3/15\n",
      "50048/50048 [==============================] - 28s 569us/step - loss: 0.2429 - acc: 0.9298 - val_loss: 0.3559 - val_acc: 0.8933\n",
      "Epoch 4/15\n",
      "50048/50048 [==============================] - 29s 589us/step - loss: 0.2174 - acc: 0.9364 - val_loss: 0.4276 - val_acc: 0.8704\n",
      "Epoch 5/15\n",
      "50048/50048 [==============================] - 28s 561us/step - loss: 0.2033 - acc: 0.9406 - val_loss: 0.3822 - val_acc: 0.8852\n",
      "Epoch 6/15\n",
      "50048/50048 [==============================] - 26s 511us/step - loss: 0.1859 - acc: 0.9456 - val_loss: 0.3910 - val_acc: 0.8882\n",
      "Epoch 7/15\n",
      "50048/50048 [==============================] - 25s 504us/step - loss: 0.1744 - acc: 0.9485 - val_loss: 0.3204 - val_acc: 0.9040\n",
      "Epoch 8/15\n",
      "50048/50048 [==============================] - 25s 496us/step - loss: 0.1568 - acc: 0.9536 - val_loss: 0.2792 - val_acc: 0.9169\n",
      "Epoch 9/15\n",
      "50048/50048 [==============================] - 25s 505us/step - loss: 0.1447 - acc: 0.9579 - val_loss: 0.2855 - val_acc: 0.9144\n",
      "Epoch 10/15\n",
      "50048/50048 [==============================] - 25s 498us/step - loss: 0.1324 - acc: 0.9610 - val_loss: 0.4257 - val_acc: 0.8816\n",
      "Epoch 11/15\n",
      "50048/50048 [==============================] - 25s 500us/step - loss: 0.1334 - acc: 0.9601 - val_loss: 0.3414 - val_acc: 0.8995\n",
      "Epoch 12/15\n",
      "50048/50048 [==============================] - 25s 499us/step - loss: 0.1191 - acc: 0.9645 - val_loss: 0.3958 - val_acc: 0.8923\n",
      "Epoch 13/15\n",
      "50048/50048 [==============================] - 24s 487us/step - loss: 0.1133 - acc: 0.9667 - val_loss: 0.4865 - val_acc: 0.8739\n",
      "Epoch 14/15\n",
      "50048/50048 [==============================] - 25s 496us/step - loss: 0.1094 - acc: 0.9674 - val_loss: 0.2640 - val_acc: 0.9242\n",
      "Epoch 15/15\n",
      "50048/50048 [==============================] - 24s 486us/step - loss: 0.0912 - acc: 0.9737 - val_loss: 0.4939 - val_acc: 0.8683\n"
     ]
    }
   ],
   "source": [
    "#CNN model fit for train data with corresponding labels\n",
    "history=model.fit(x,y,epochs=15,batch_size=1000,validation_split=0.20)"
   ]
  },
  {
   "cell_type": "code",
   "execution_count": 313,
   "metadata": {},
   "outputs": [],
   "source": [
    "#Number of incorrect labelling in test data\n",
    "incorrects = np.nonzero(model.predict_classes(X_test).reshape((-1,)) != y_test)"
   ]
  },
  {
   "cell_type": "code",
   "execution_count": 314,
   "metadata": {},
   "outputs": [],
   "source": [
    "incorrects = np.array(incorrects)"
   ]
  },
  {
   "cell_type": "code",
   "execution_count": 315,
   "metadata": {},
   "outputs": [
    {
     "data": {
      "text/plain": [
       "0.2186700767263427"
      ]
     },
     "execution_count": 315,
     "metadata": {},
     "output_type": "execute_result"
    }
   ],
   "source": [
    "#Precentage of wrong predictions decreased by increasing 10--> 15 epochs\n",
    "#For further decrease grid search can also be implemented\n",
    "incorrects.shape[1]/X_test.shape[0]"
   ]
  },
  {
   "cell_type": "code",
   "execution_count": 232,
   "metadata": {},
   "outputs": [],
   "source": [
    "#Image to be predicted and classfied to its class labels\n",
    "os.chdir('E:\\\\NN_casestudy_prac\\\\Data_extracted\\\\Data')\n",
    "x_predict = pd.read_csv('test_X.csv')"
   ]
  },
  {
   "cell_type": "code",
   "execution_count": 233,
   "metadata": {},
   "outputs": [
    {
     "data": {
      "text/plain": [
       "(13800, 1024)"
      ]
     },
     "execution_count": 233,
     "metadata": {},
     "output_type": "execute_result"
    }
   ],
   "source": [
    "#Total 13800 images 32X32 in grayscale\n",
    "x_predict.shape"
   ]
  },
  {
   "cell_type": "code",
   "execution_count": 265,
   "metadata": {},
   "outputs": [],
   "source": [
    "#Reshapping for prediction\n",
    "x_test=np.array(x_predict)\n",
    "x_test=x_test/255.0\n",
    "x_test=x_test.reshape(x_test.shape[0],32,32,1)"
   ]
  },
  {
   "cell_type": "code",
   "execution_count": 266,
   "metadata": {},
   "outputs": [
    {
     "data": {
      "text/plain": [
       "(13800, 32, 32, 1)"
      ]
     },
     "execution_count": 266,
     "metadata": {},
     "output_type": "execute_result"
    }
   ],
   "source": [
    "x_test.shape"
   ]
  },
  {
   "cell_type": "code",
   "execution_count": 267,
   "metadata": {
    "scrolled": true
   },
   "outputs": [
    {
     "data": {
      "text/plain": [
       "'character_20_na'"
      ]
     },
     "execution_count": 267,
     "metadata": {},
     "output_type": "execute_result"
    },
    {
     "data": {
      "image/png": "[encoded data removed]",
      "text/plain": [
       "<Figure size 432x288 with 1 Axes>"
      ]
     },
     "metadata": {
      "needs_background": "light"
     },
     "output_type": "display_data"
    }
   ],
   "source": [
    "#Testing a random image\n",
    "plt.imshow(x_test[50,:,:].reshape(32,32),cmap='gray')\n",
    "model.predict_classes(x_test[50,:,:].reshape(1,32,32,1))\n",
    "dic[11]\n",
    "#Correctly predicted"
   ]
  },
  {
   "cell_type": "code",
   "execution_count": 278,
   "metadata": {},
   "outputs": [],
   "source": [
    "#Labelling all the test data characters and digits in x_test data array of image\n",
    "labelled_class = []\n",
    "for i in range(0,13800):\n",
    "    pred_ = model.predict_classes(x_test[i,:,:].reshape(1,32,32,1))[0]\n",
    "    labelled_class.append(pred_)\n",
    "    \n",
    "    "
   ]
  },
  {
   "cell_type": "code",
   "execution_count": 280,
   "metadata": {},
   "outputs": [
    {
     "data": {
      "text/plain": [
       "13800"
      ]
     },
     "execution_count": 280,
     "metadata": {},
     "output_type": "execute_result"
    }
   ],
   "source": [
    "len(labelled_class)"
   ]
  },
  {
   "cell_type": "code",
   "execution_count": 299,
   "metadata": {},
   "outputs": [],
   "source": [
    "#Label for images\n",
    "characters_digits = []\n",
    "for label in labelled_class:\n",
    "    characters_digits.append(dic[label])\n",
    "     "
   ]
  },
  {
   "cell_type": "code",
   "execution_count": 301,
   "metadata": {},
   "outputs": [],
   "source": [
    "#Image indexes\n",
    "image_index = list(range(0,13800))"
   ]
  },
  {
   "cell_type": "code",
   "execution_count": 303,
   "metadata": {},
   "outputs": [],
   "source": [
    "#Creating a dataframe for image and labels final submission file\n",
    "pred = pd.DataFrame({'Image_Index': image_index, 'Label':characters_digits})"
   ]
  },
  {
   "cell_type": "code",
   "execution_count": 306,
   "metadata": {},
   "outputs": [
    {
     "data": {
      "text/html": [
       "<div>\n",
       "<style scoped>\n",
       "    .dataframe tbody tr th:only-of-type {\n",
       "        vertical-align: middle;\n",
       "    }\n",
       "\n",
       "    .dataframe tbody tr th {\n",
       "        vertical-align: top;\n",
       "    }\n",
       "\n",
       "    .dataframe thead th {\n",
       "        text-align: right;\n",
       "    }\n",
       "</style>\n",
       "<table border=\"1\" class=\"dataframe\">\n",
       "  <thead>\n",
       "    <tr style=\"text-align: right;\">\n",
       "      <th></th>\n",
       "      <th>Image_Index</th>\n",
       "      <th>Label</th>\n",
       "    </tr>\n",
       "  </thead>\n",
       "  <tbody>\n",
       "    <tr>\n",
       "      <th>0</th>\n",
       "      <td>0</td>\n",
       "      <td>character_18_da</td>\n",
       "    </tr>\n",
       "    <tr>\n",
       "      <th>1</th>\n",
       "      <td>1</td>\n",
       "      <td>character_8_ja</td>\n",
       "    </tr>\n",
       "    <tr>\n",
       "      <th>2</th>\n",
       "      <td>2</td>\n",
       "      <td>digit_0</td>\n",
       "    </tr>\n",
       "    <tr>\n",
       "      <th>3</th>\n",
       "      <td>3</td>\n",
       "      <td>character_17_tha</td>\n",
       "    </tr>\n",
       "    <tr>\n",
       "      <th>4</th>\n",
       "      <td>4</td>\n",
       "      <td>character_3_ga</td>\n",
       "    </tr>\n",
       "  </tbody>\n",
       "</table>\n",
       "</div>"
      ],
      "text/plain": [
       "   Image_Index             Label\n",
       "0            0   character_18_da\n",
       "1            1    character_8_ja\n",
       "2            2           digit_0\n",
       "3            3  character_17_tha\n",
       "4            4    character_3_ga"
      ]
     },
     "execution_count": 306,
     "metadata": {},
     "output_type": "execute_result"
    }
   ],
   "source": [
    "pred.head()"
   ]
  },
  {
   "cell_type": "code",
   "execution_count": 311,
   "metadata": {},
   "outputs": [
    {
     "name": "stdout",
     "output_type": "stream",
     "text": [
      "[36]\n"
     ]
    },
    {
     "data": {
      "text/plain": [
       "0.9999975"
      ]
     },
     "execution_count": 311,
     "metadata": {},
     "output_type": "execute_result"
    },
    {
     "data": {
      "image/png": "[encoded data removed]",
      "text/plain": [
       "<Figure size 432x288 with 1 Axes>"
      ]
     },
     "metadata": {
      "needs_background": "light"
     },
     "output_type": "display_data"
    }
   ],
   "source": [
    "#Testing 2nd image from above predicted data\n",
    "plt.imshow(x_test[2,:,:].reshape(32,32),cmap='gray')\n",
    "print(model.predict_classes(x_test[2,:,:].reshape(1,32,32,1)))\n",
    "dic[36]\n",
    "#Correctly predicted\n",
    "p = model.predict_proba(x_test[2,:,:].reshape(1,32,32,1))\n",
    "np.max(p)\n",
    "#0.9158482 correctly predicted as 'character_20_na'"
   ]
  },
  {
   "cell_type": "code",
   "execution_count": 307,
   "metadata": {},
   "outputs": [],
   "source": [
    "pred.drop(['Image_Index'],axis = 1,inplace = True)"
   ]
  },
  {
   "cell_type": "code",
   "execution_count": 308,
   "metadata": {},
   "outputs": [],
   "source": [
    "#Converting to submission as pred.csv file\n",
    "os.chdir(\"E:\\\\NN_casestudy_prac\\\\Data_extracted\\\\Data\")\n",
    "pred.to_csv(\"pred.csv\",index = False)"
   ]
  },
  {
   "cell_type": "code",
   "execution_count": null,
   "metadata": {},
   "outputs": [],
   "source": []
  }
 ],
 "metadata": {
  "kernelspec": {
   "display_name": "Python 3",
   "language": "python",
   "name": "python3"
  },
  "language_info": {
   "codemirror_mode": {
    "name": "ipython",
    "version": 3
   },
   "file_extension": ".py",
   "mimetype": "text/x-python",
   "name": "python",
   "nbconvert_exporter": "python",
   "pygments_lexer": "ipython3",
   "version": "3.7.3"
  }
 },
 "nbformat": 4,
 "nbformat_minor": 2
}
